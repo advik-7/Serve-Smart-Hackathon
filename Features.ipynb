{
  "nbformat": 4,
  "nbformat_minor": 0,
  "metadata": {
    "colab": {
      "provenance": [],
      "authorship_tag": "ABX9TyPxx8V8lO+B0GdJbFHglihz",
      "include_colab_link": true
    },
    "kernelspec": {
      "name": "python3",
      "display_name": "Python 3"
    },
    "language_info": {
      "name": "python"
    }
  },
  "cells": [
    {
      "cell_type": "markdown",
      "metadata": {
        "id": "view-in-github",
        "colab_type": "text"
      },
      "source": [
        "<a href=\"https://colab.research.google.com/github/advik-7/Serve-Smart-Hackathon/blob/main/Features.ipynb\" target=\"_parent\"><img src=\"https://colab.research.google.com/assets/colab-badge.svg\" alt=\"Open In Colab\"/></a>"
      ]
    },
    {
      "cell_type": "code",
      "source": [
        "!pip install vaderSentiment"
      ],
      "metadata": {
        "collapsed": true,
        "colab": {
          "base_uri": "https://localhost:8080/"
        },
        "id": "CgHgug_iz2v3",
        "outputId": "a364e527-129c-47ef-cf2a-75451bc77b4b"
      },
      "execution_count": 9,
      "outputs": [
        {
          "output_type": "stream",
          "name": "stdout",
          "text": [
            "Collecting vaderSentiment\n",
            "  Downloading vaderSentiment-3.3.2-py2.py3-none-any.whl.metadata (572 bytes)\n",
            "Requirement already satisfied: requests in /usr/local/lib/python3.10/dist-packages (from vaderSentiment) (2.32.3)\n",
            "Requirement already satisfied: charset-normalizer<4,>=2 in /usr/local/lib/python3.10/dist-packages (from requests->vaderSentiment) (3.4.0)\n",
            "Requirement already satisfied: idna<4,>=2.5 in /usr/local/lib/python3.10/dist-packages (from requests->vaderSentiment) (3.10)\n",
            "Requirement already satisfied: urllib3<3,>=1.21.1 in /usr/local/lib/python3.10/dist-packages (from requests->vaderSentiment) (2.2.3)\n",
            "Requirement already satisfied: certifi>=2017.4.17 in /usr/local/lib/python3.10/dist-packages (from requests->vaderSentiment) (2024.12.14)\n",
            "Downloading vaderSentiment-3.3.2-py2.py3-none-any.whl (125 kB)\n",
            "\u001b[?25l   \u001b[90m━━━━━━━━━━━━━━━━━━━━━━━━━━━━━━━━━━━━━━━━\u001b[0m \u001b[32m0.0/126.0 kB\u001b[0m \u001b[31m?\u001b[0m eta \u001b[36m-:--:--\u001b[0m\r\u001b[2K   \u001b[91m━━━━━━━━━━━━━━━━━━━━━━━━━━━━━━━━━━━━━━━\u001b[0m\u001b[90m╺\u001b[0m \u001b[32m122.9/126.0 kB\u001b[0m \u001b[31m6.3 MB/s\u001b[0m eta \u001b[36m0:00:01\u001b[0m\r\u001b[2K   \u001b[90m━━━━━━━━━━━━━━━━━━━━━━━━━━━━━━━━━━━━━━━━\u001b[0m \u001b[32m126.0/126.0 kB\u001b[0m \u001b[31m3.2 MB/s\u001b[0m eta \u001b[36m0:00:00\u001b[0m\n",
            "\u001b[?25hInstalling collected packages: vaderSentiment\n",
            "Successfully installed vaderSentiment-3.3.2\n"
          ]
        }
      ]
    },
    {
      "cell_type": "code",
      "source": [
        "from vaderSentiment.vaderSentiment import SentimentIntensityAnalyzer\n",
        "import re\n",
        "\n",
        "analyzer = SentimentIntensityAnalyzer()"
      ],
      "metadata": {
        "id": "guThW5U1zu3_"
      },
      "execution_count": 15,
      "outputs": []
    },
    {
      "cell_type": "code",
      "source": [
        "def sentiment_scores(text):\n",
        "  scores = analyzer.polarity_scores(text)\n",
        "  return scores\n"
      ],
      "metadata": {
        "id": "ce4Oh-AlzzIQ"
      },
      "execution_count": 14,
      "outputs": []
    },
    {
      "cell_type": "code",
      "source": [
        "def Keyword_Density(text):\n",
        "  cleaned_text = re.sub(r\"[^\\w\\s]\", \"\", text.lower())\n",
        "  words = cleaned_text.split()\n",
        "\n",
        "  threshold = 0.25\n",
        "\n",
        "  high_sentiment_count = 0\n",
        "  total_words = len(words)\n",
        "\n",
        "  for word in words:\n",
        "      score = analyzer.polarity_scores(word)[\"compound\"]\n",
        "      if abs(score) > threshold:\n",
        "          high_sentiment_count += 1\n",
        "\n",
        "  high_sentiment_density = (high_sentiment_count / total_words) * 100\n",
        "  return high_sentiment_density\n",
        "\n"
      ],
      "metadata": {
        "id": "PCA2DDhL0SFw"
      },
      "execution_count": 22,
      "outputs": []
    },
    {
      "cell_type": "code",
      "source": [
        "import re\n",
        "\n",
        "def calculate_lengths(title, text, measure='words'):\n",
        "    \"\"\"\n",
        "    Function to calculate the length of the title and text (in words or characters).\n",
        "\n",
        "    Parameters:\n",
        "    - title (str): The title of the article.\n",
        "    - text (str): The body text of the article.\n",
        "    - measure (str): The measure to use ('words' or 'characters'). Default is 'words'.\n",
        "\n",
        "    Returns:\n",
        "    - dict: Dictionary containing title length and text length (in the specified measure).\n",
        "    \"\"\"\n",
        "    # Clean and preprocess the text\n",
        "    def clean_text(text):\n",
        "        # Remove special characters and excess whitespace\n",
        "        return re.sub(r'[^\\w\\s]', '', text).strip()\n",
        "\n",
        "    # Count words or characters in a given text\n",
        "    def get_length(text, measure='words'):\n",
        "        cleaned_text = clean_text(text)\n",
        "        if measure == 'words':\n",
        "            # Count words by splitting the text into a list of words\n",
        "            return len(cleaned_text.split())\n",
        "        elif measure == 'characters':\n",
        "            # Count characters (excluding spaces)\n",
        "            return len(cleaned_text.replace(\" \", \"\"))\n",
        "        else:\n",
        "            raise ValueError(\"Invalid measure. Choose either 'words' or 'characters'.\")\n",
        "\n",
        "    # Calculate title and text length\n",
        "    title_length = get_length(title, measure)\n",
        "    text_length = get_length(text, measure)\n",
        "\n",
        "    return {\n",
        "        'title_length': title_length,\n",
        "        'text_length': text_length\n",
        "    }\n"
      ],
      "metadata": {
        "id": "GtKzT0LG1X3T"
      },
      "execution_count": 23,
      "outputs": []
    },
    {
      "cell_type": "code",
      "source": [
        "\n",
        "title = \"Breaking News: Unbelievable Discovery of Alien Life!\"\n",
        "text = \"\"\"\n",
        "In an astonishing new development, scientists have discovered evidence of alien life on Mars.\n",
        "This discovery could change the course of humanity's understanding of the universe.\n",
        "Experts are still analyzing the data, but preliminary results are already making waves.\n",
        "\"\"\"\n",
        "\n",
        "calculate_lengths(title, text, measure='words')\n"
      ],
      "metadata": {
        "colab": {
          "base_uri": "https://localhost:8080/"
        },
        "id": "SBWs3Bjo2VXB",
        "outputId": "73ce20ec-e2c9-41ad-fd85-e415f631b72f"
      },
      "execution_count": 24,
      "outputs": [
        {
          "output_type": "execute_result",
          "data": {
            "text/plain": [
              "{'title_length': 7, 'text_length': 39}"
            ]
          },
          "metadata": {},
          "execution_count": 24
        }
      ]
    },
    {
      "cell_type": "code",
      "source": [],
      "metadata": {
        "id": "YPiL-6Hv2Z_S"
      },
      "execution_count": null,
      "outputs": []
    }
  ]
}